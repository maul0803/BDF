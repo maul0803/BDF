{
 "cells": [
  {
   "cell_type": "markdown",
   "metadata": {},
   "source": [
    "# CPU & Memory"
   ]
  },
  {
   "cell_type": "markdown",
   "metadata": {},
   "source": [
    "- Modification: filtrage des valeurs égales à 0\n",
    "- ajout de .cache()"
   ]
  },
  {
   "cell_type": "markdown",
   "metadata": {},
   "source": [
    "# Cleaning"
   ]
  },
  {
   "cell_type": "code",
   "execution_count": null,
   "metadata": {},
   "outputs": [],
   "source": [
    "from pyspark.sql import SparkSession\n",
    "from pyspark.sql import functions as F\n",
    "from pyspark.sql.types import StructType, StructField, IntegerType, FloatType, BooleanType\n",
    "\n",
    "# Initialiser une session Spark\n",
    "spark = SparkSession.builder \\\n",
    "    .appName(\"Analyse Memory & CPU Usage (Jobs & Tasks)\") \\\n",
    "    .getOrCreate()"
   ]
  },
  {
   "cell_type": "code",
   "execution_count": 26,
   "metadata": {},
   "outputs": [
    {
     "name": "stderr",
     "output_type": "stream",
     "text": [
      "                                                                                \r"
     ]
    },
    {
     "name": "stdout",
     "output_type": "stream",
     "text": [
      "+------+----------+-----------------+---------------+\n",
      "|job ID|task index|unique_priorities|number of lines|\n",
      "+------+----------+-----------------+---------------+\n",
      "+------+----------+-----------------+---------------+\n",
      "\n"
     ]
    },
    {
     "name": "stderr",
     "output_type": "stream",
     "text": [
      "[Stage 199:====================================================>(156 + 3) / 159]\r"
     ]
    },
    {
     "name": "stdout",
     "output_type": "stream",
     "text": [
      "+-------+----------+-----------------+---------------+\n",
      "| job ID|task index|unique_priorities|number of lines|\n",
      "+-------+----------+-----------------+---------------+\n",
      "|3418309|         0|                1|              5|\n",
      "|3418309|         1|                1|              2|\n",
      "|3418314|         0|                1|              2|\n",
      "|3418314|         1|                1|              5|\n",
      "|3418319|         0|                1|              8|\n",
      "|3418319|         1|                1|              2|\n",
      "|3418324|         0|                1|              8|\n",
      "|3418324|         1|                1|              2|\n",
      "|3418329|         0|                1|              5|\n",
      "|3418329|         1|                1|              2|\n",
      "|3418329|         2|                1|              8|\n",
      "|3418334|         0|                1|              2|\n",
      "|3418334|         1|                1|              2|\n",
      "|3418339|         0|                1|              8|\n",
      "|3418339|         1|                1|              2|\n",
      "|3418339|         2|                1|              5|\n",
      "|3418339|         3|                1|              2|\n",
      "|3418339|         4|                1|              8|\n",
      "|3418339|         5|                1|              2|\n",
      "|3418339|         6|                1|              5|\n",
      "|3418339|         7|                1|              5|\n",
      "|3418339|         8|                1|              2|\n",
      "|3418339|         9|                1|              2|\n",
      "|3418339|        10|                1|              2|\n",
      "|3418339|        11|                1|              2|\n",
      "|3418339|        12|                1|              5|\n",
      "|3418339|        13|                1|              5|\n",
      "|3418339|        14|                1|              5|\n",
      "|3418339|        15|                1|              2|\n",
      "|3418339|        16|                1|              8|\n",
      "|3418339|        17|                1|              8|\n",
      "|3418339|        18|                1|              2|\n",
      "|3418339|        19|                1|              8|\n",
      "|3418339|        20|                1|              2|\n",
      "|3418339|        21|                1|              8|\n",
      "|3418339|        22|                1|              2|\n",
      "|3418339|        23|                1|              5|\n",
      "|3418339|        24|                1|              2|\n",
      "|3418356|         0|                1|              2|\n",
      "|3418356|         1|                1|              2|\n",
      "|3418356|         2|                1|              2|\n",
      "|3418356|         3|                1|              2|\n",
      "|3418356|         4|                1|              8|\n",
      "|3418363|         0|                1|              2|\n",
      "|3418363|         1|                1|              2|\n",
      "|3418368|         0|                1|              2|\n",
      "|3418368|         1|                1|             11|\n",
      "|3418368|         2|                1|              2|\n",
      "|3418375|         0|                1|              8|\n",
      "|3418375|         1|                1|              2|\n",
      "|3418380|         0|                1|              5|\n",
      "|3418380|         1|                1|              5|\n",
      "|3418385|         0|                1|              8|\n",
      "|3418385|         1|                1|              5|\n",
      "|3418390|         0|                1|              8|\n",
      "|3418390|         1|                1|              2|\n",
      "|3418390|         2|                1|              2|\n",
      "|3418390|         3|                1|              8|\n",
      "|3418390|         4|                1|              5|\n",
      "|3418395|         0|                1|              5|\n",
      "|3418395|         1|                1|              2|\n",
      "|3418400|         0|                1|              5|\n",
      "|3418400|         1|                1|              8|\n",
      "|3418405|         0|                1|              5|\n",
      "|3418405|         1|                1|              2|\n",
      "|3418405|         2|                1|              5|\n",
      "|3418405|         3|                1|              8|\n",
      "|3418412|         0|                1|              2|\n",
      "|3418412|         1|                1|              2|\n",
      "|3418417|         0|                1|              2|\n",
      "|3418417|         1|                1|              5|\n",
      "|3418422|         0|                1|              2|\n",
      "|3418422|         1|                1|              2|\n",
      "|3418427|         0|                1|              5|\n",
      "|3418427|         1|                1|              5|\n",
      "|3418432|         0|                1|              2|\n",
      "|3418432|         1|                1|              5|\n",
      "|3418437|         0|                1|              3|\n",
      "|3418437|         1|                1|              9|\n",
      "|3418442|         0|                1|              2|\n",
      "|3418442|         1|                1|              2|\n",
      "|3418442|         2|                1|              2|\n",
      "|3418442|         3|                1|              2|\n",
      "|3418442|         4|                1|              5|\n",
      "|3418442|         5|                1|             11|\n",
      "|3418442|         6|                1|              2|\n",
      "|3418442|         7|                1|              8|\n",
      "|6590371|         0|                1|              2|\n",
      "|6590371|         1|                1|              5|\n",
      "|6590376|         0|                1|              2|\n",
      "|6590376|         1|                1|              2|\n",
      "|6590381|         0|                1|              5|\n",
      "|6590381|         1|                1|              2|\n",
      "|6590386|         0|                1|              5|\n",
      "|6590386|         1|                1|              2|\n",
      "|6590391|         0|                1|              2|\n",
      "|6590391|         1|                1|              5|\n",
      "|6724944|         0|                1|              4|\n",
      "|6724944|         1|                1|              7|\n",
      "|6724949|         0|                1|              2|\n",
      "+-------+----------+-----------------+---------------+\n",
      "only showing top 100 rows\n",
      "\n"
     ]
    },
    {
     "name": "stderr",
     "output_type": "stream",
     "text": [
      "                                                                                \r"
     ]
    }
   ],
   "source": [
    "from pyspark.sql import SparkSession\n",
    "from pyspark.sql import functions as F\n",
    "from pyspark.sql.types import StructType, StructField, IntegerType, FloatType, StringType, BooleanType\n",
    "\n",
    "# Initialiser une session Spark\n",
    "spark = SparkSession.builder \\\n",
    "    .appName(\"Analyse Memory & CPU Usage (Jobs & Tasks)\") \\\n",
    "    .getOrCreate()\n",
    "\n",
    "# Définition du schéma pour les fichiers CSV\n",
    "task_events_schema = StructType([\n",
    "    StructField(\"timestamp\", IntegerType(), True),\n",
    "    StructField(\"missing info\", IntegerType(), True),\n",
    "    StructField(\"job ID\", IntegerType(), True),\n",
    "    StructField(\"task index\", IntegerType(), True),\n",
    "    StructField(\"machine ID\", IntegerType(), True),\n",
    "    StructField(\"event type\", IntegerType(), True),\n",
    "    StructField(\"user name\", StringType(), True),\n",
    "    StructField(\"scheduling class\", IntegerType(), True),\n",
    "    StructField(\"priority\", IntegerType(), True),\n",
    "    StructField(\"resource request for CPU cores\", FloatType(), True),\n",
    "    StructField(\"resource request for RAM\", FloatType(), True),\n",
    "    StructField(\"resource request for local disk space\", FloatType(), True),\n",
    "    StructField(\"different-machine constraint\", BooleanType(), True)\n",
    "])\n",
    "\n",
    "csv_directory_task_events = \"/mnt/lustre/scratch/nlsas/home/ulc/cursos/curso341/Big_Data_Frameworks/data/task_events/*.csv\"\n",
    "\n",
    "# Charger le fichier CSV\n",
    "df = spark.read \\\n",
    "    .option(\"header\", \"false\") \\\n",
    "    .schema(task_events_schema) \\\n",
    "    .csv(csv_directory_task_events)\n",
    "\n",
    "\n",
    "# Nettoyer les données en supprimant les entrées avec job ID null\n",
    "df_cleaned = df.filter(F.col(\"job ID\").isNotNull())\n",
    "\n",
    "# Sélectionner les colonnes pertinentes\n",
    "df_cleaned_selected = df_cleaned.select(\n",
    "    \"job ID\", \"task index\", \"priority\")\n",
    "\n",
    "# Vérifier si chaque tâche a une seule priorité associée\n",
    "df_task_priority_check = df_cleaned_selected.groupBy(\"job ID\", \"task index\").agg(F.countDistinct(\"priority\").alias(\"unique_priorities\"), F.count(\"priority\").alias(\"number of lines\"))\n",
    "df_task_priority_check = df_task_priority_check.orderBy(\"job ID\", \"task index\")\n",
    "\n",
    "# Afficher les tâches avec plus d'une priorité\n",
    "df_task_priority_check.filter(F.col(\"unique_priorities\") > 1).show()\n",
    "df_task_priority_check.show(100)"
   ]
  },
  {
   "cell_type": "code",
   "execution_count": 3,
   "metadata": {},
   "outputs": [],
   "source": [
    "spark.stop()"
   ]
  }
 ],
 "metadata": {
  "kernelspec": {
   "display_name": "mypython",
   "language": "python",
   "name": "mypython"
  }
 },
 "nbformat": 4,
 "nbformat_minor": 2
}
